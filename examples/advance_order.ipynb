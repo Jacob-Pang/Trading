{
 "cells": [
  {
   "cell_type": "markdown",
   "metadata": {},
   "source": [
    "# Example Use of AdvanceOrder"
   ]
  },
  {
   "cell_type": "markdown",
   "metadata": {},
   "source": [
    "## Setup"
   ]
  },
  {
   "cell_type": "code",
   "execution_count": 11,
   "metadata": {},
   "outputs": [],
   "source": [
    "import os\n",
    "os.chdir(os.path.pardir)\n",
    "\n",
    "# Testing classes\n",
    "from src.market.spot import Spot\n",
    "from src.market_actor.stub import MarketActorStub\n",
    "from src.market_listener import MarketListenerStub\n",
    "from pyutils.events import wait_for"
   ]
  },
  {
   "cell_type": "code",
   "execution_count": 12,
   "metadata": {},
   "outputs": [],
   "source": [
    "transact_fee_rate = 0.2 / 100\n",
    "stop_loss_rate = 2 / 100\n",
    "trailing_rate = 1 / 100\n",
    "entry_price = 1000\n",
    "\n",
    "market = Spot(\"ETH\", \"USD\")\n",
    "market_listener = MarketListenerStub(market)\n",
    "market_actor = MarketActorStub(transact_fee_rate)"
   ]
  },
  {
   "cell_type": "markdown",
   "metadata": {},
   "source": [
    "## Trailing Stop Loss"
   ]
  },
  {
   "cell_type": "code",
   "execution_count": 13,
   "metadata": {},
   "outputs": [],
   "source": [
    "from src.advance_order.trailing_stop_loss import TrailingStopLossLogic\n",
    "\n",
    "trailing_stop_loss_logic = TrailingStopLossLogic(market_actor, market_listener, trailing_rate,\n",
    "        use_orderbook=False)"
   ]
  },
  {
   "cell_type": "markdown",
   "metadata": {},
   "source": [
    "### Long Position"
   ]
  },
  {
   "cell_type": "code",
   "execution_count": 14,
   "metadata": {},
   "outputs": [
    {
     "name": "stdout",
     "output_type": "stream",
     "text": [
      "Submitted buy order of 10.00 ETH/USD    at 1000.00\n",
      "Filled buy order of 10.00 ETH/USD    at 1000.00\n"
     ]
    },
    {
     "data": {
      "text/plain": [
       "{'ETH': 10.0, 'USD': -10000.0}"
      ]
     },
     "execution_count": 14,
     "metadata": {},
     "output_type": "execute_result"
    }
   ],
   "source": [
    "buy_order = market_actor.place_open_order(market, price=entry_price, size=10)\n",
    "wait_for(buy_order.has_filled)\n",
    "trailing_stop_loss = trailing_stop_loss_logic.open_advance_order(buy_order.filled_position)\n",
    "\n",
    "f\"trigger_price = {trailing_stop_loss.stop_loss_price}\"\n",
    "buy_order.filled_position.balances"
   ]
  },
  {
   "cell_type": "code",
   "execution_count": 15,
   "metadata": {},
   "outputs": [
    {
     "name": "stdout",
     "output_type": "stream",
     "text": [
      "1. trigger_price = 1089.0\n",
      "2. trigger_price = 1089.0\n",
      "Submitted sell order of 10.00 ETH/USD    at 1080.00\n",
      "Filled sell order of 0.00 ETH/USD    at 1080.00\n",
      "3. AdvanceOrder filled = True\n"
     ]
    },
    {
     "data": {
      "text/plain": [
       "{'ETH': 0.0, 'USD': 800.0}"
      ]
     },
     "execution_count": 15,
     "metadata": {},
     "output_type": "execute_result"
    }
   ],
   "source": [
    "# 1. Not triggered: change in stop_loss_price\n",
    "market_listener.set_current_price(1100)\n",
    "trailing_stop_loss.update()\n",
    "\n",
    "print(f\"1. trigger_price = {trailing_stop_loss.stop_loss_price}\")\n",
    "\n",
    "# 2. Not triggered: no change in stop_loss_price\n",
    "market_listener.set_current_price(1090)\n",
    "trailing_stop_loss.update()\n",
    "\n",
    "print(f\"2. trigger_price = {trailing_stop_loss.stop_loss_price}\")\n",
    "\n",
    "# 3. Triggered\n",
    "market_listener.set_current_price(1080)\n",
    "trailing_stop_loss.update()\n",
    "\n",
    "print(f\"3. AdvanceOrder filled = {trailing_stop_loss.filled}\")\n",
    "# View ending position\n",
    "trailing_stop_loss.position.balances"
   ]
  },
  {
   "cell_type": "markdown",
   "metadata": {},
   "source": [
    "### Short Position"
   ]
  },
  {
   "cell_type": "code",
   "execution_count": 16,
   "metadata": {},
   "outputs": [
    {
     "name": "stdout",
     "output_type": "stream",
     "text": [
      "Submitted sell order of 10.00 ETH/USD    at 1000.00\n",
      "Filled sell order of 0.00 ETH/USD    at 1000.00\n"
     ]
    },
    {
     "data": {
      "text/plain": [
       "'trigger_price = 1010.0'"
      ]
     },
     "execution_count": 16,
     "metadata": {},
     "output_type": "execute_result"
    }
   ],
   "source": [
    "short_order = market_actor.place_open_order(market, price=entry_price, size=-10)\n",
    "wait_for(short_order.has_filled)\n",
    "trailing_stop_loss = trailing_stop_loss_logic.open_advance_order(short_order.filled_position)\n",
    "\n",
    "f\"trigger_price = {trailing_stop_loss.stop_loss_price}\""
   ]
  },
  {
   "cell_type": "code",
   "execution_count": 17,
   "metadata": {},
   "outputs": [
    {
     "name": "stdout",
     "output_type": "stream",
     "text": [
      "1. trigger_price = 909.0\n",
      "Submitted sell order of 10.00 ETH/USD    at 950.00\n",
      "Filled sell order of 0.00 ETH/USD    at 950.00\n",
      "2. AdvanceOrder filled = False\n"
     ]
    },
    {
     "data": {
      "text/plain": [
       "{'ETH': -20.0, 'USD': 19500.0}"
      ]
     },
     "execution_count": 17,
     "metadata": {},
     "output_type": "execute_result"
    }
   ],
   "source": [
    "# 1. Not triggered: change in stop_loss_price\n",
    "market_listener.set_current_price(900)\n",
    "trailing_stop_loss.update()\n",
    "\n",
    "print(f\"1. trigger_price = {trailing_stop_loss.stop_loss_price}\")\n",
    "\n",
    "# 2. Triggered\n",
    "market_listener.set_current_price(950)\n",
    "trailing_stop_loss.update()\n",
    "\n",
    "print(f\"2. AdvanceOrder filled = {trailing_stop_loss.filled}\")\n",
    "\n",
    "# View ending position\n",
    "trailing_stop_loss.position.balances"
   ]
  },
  {
   "cell_type": "markdown",
   "metadata": {},
   "source": [
    "## Convertible Stop Loss"
   ]
  },
  {
   "cell_type": "code",
   "execution_count": 18,
   "metadata": {},
   "outputs": [],
   "source": [
    "from src.advance_order.convertible_stop_loss import ConvertibleStopLossLogic\n",
    "\n",
    "convertible_stop_loss_logic = ConvertibleStopLossLogic(market_actor, market_listener,\n",
    "        stop_loss_offset=stop_loss_rate, trailing_rate=trailing_rate, offset_as_rate=True,\n",
    "        use_orderbook=False)"
   ]
  },
  {
   "cell_type": "markdown",
   "metadata": {},
   "source": [
    "### Long Position"
   ]
  },
  {
   "cell_type": "code",
   "execution_count": 19,
   "metadata": {},
   "outputs": [
    {
     "name": "stdout",
     "output_type": "stream",
     "text": [
      "Submitted buy order of 10.00 ETH/USD    at 1000.00\n",
      "Filled buy order of 10.00 ETH/USD    at 1000.00\n",
      "trigger_price = 980.0\n",
      "{'ETH': 10.0, 'USD': -10000.0}\n"
     ]
    },
    {
     "data": {
      "text/plain": [
       "2.0000000000000018"
      ]
     },
     "execution_count": 19,
     "metadata": {},
     "output_type": "execute_result"
    }
   ],
   "source": [
    "buy_order = market_actor.place_open_order(market, price=entry_price, size=10)\n",
    "wait_for(buy_order.has_filled)\n",
    "convertible_stop_loss = convertible_stop_loss_logic.open_advance_order(buy_order.filled_position)\n",
    "\n",
    "print(f\"trigger_price = {convertible_stop_loss.stop_loss_price}\")\n",
    "print(buy_order.filled_position.balances)\n",
    "(1 - convertible_stop_loss.stop_loss_price / entry_price) * 100 # At stop loss rate"
   ]
  },
  {
   "cell_type": "code",
   "execution_count": 20,
   "metadata": {},
   "outputs": [
    {
     "name": "stdout",
     "output_type": "stream",
     "text": [
      "1. trigger_price = 1039.5\n",
      "At trailing_rate: 1.0000000000000009 %\n",
      "Submitted sell order of 10.00 ETH/USD    at 1020.00\n",
      "Filled sell order of 0.00 ETH/USD    at 1020.00\n",
      "2. AdvanceOrder filled = True\n"
     ]
    },
    {
     "data": {
      "text/plain": [
       "{'ETH': 0.0, 'USD': 200.0}"
      ]
     },
     "execution_count": 20,
     "metadata": {},
     "output_type": "execute_result"
    }
   ],
   "source": [
    "# 1. Not triggered: change in stop_loss_price to trailing rate\n",
    "market_listener.set_current_price(1050)\n",
    "convertible_stop_loss.update()\n",
    "\n",
    "print(f\"1. trigger_price = {convertible_stop_loss.stop_loss_price}\")\n",
    "print(f\"At trailing_rate: {(1 - convertible_stop_loss.stop_loss_price / 1050) * 100} %\")\n",
    "\n",
    "# 2. Triggered: \n",
    "market_listener.set_current_price(1020)\n",
    "convertible_stop_loss.update()\n",
    "\n",
    "print(f\"2. AdvanceOrder filled = {convertible_stop_loss.filled}\")\n",
    "# View ending position\n",
    "convertible_stop_loss.position.balances"
   ]
  }
 ],
 "metadata": {
  "kernelspec": {
   "display_name": "Python 3.10.5 64-bit",
   "language": "python",
   "name": "python3"
  },
  "language_info": {
   "codemirror_mode": {
    "name": "ipython",
    "version": 3
   },
   "file_extension": ".py",
   "mimetype": "text/x-python",
   "name": "python",
   "nbconvert_exporter": "python",
   "pygments_lexer": "ipython3",
   "version": "3.10.5"
  },
  "orig_nbformat": 4,
  "vscode": {
   "interpreter": {
    "hash": "90d99a365a6800d6d3b874802d775db992b69c47481bfc65e12294d647a46c22"
   }
  }
 },
 "nbformat": 4,
 "nbformat_minor": 2
}
