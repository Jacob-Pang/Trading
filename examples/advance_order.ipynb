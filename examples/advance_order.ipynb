{
 "cells": [
  {
   "cell_type": "markdown",
   "metadata": {},
   "source": [
    "# Example Use of AdvanceOrder"
   ]
  },
  {
   "cell_type": "markdown",
   "metadata": {},
   "source": [
    "## Setup"
   ]
  },
  {
   "cell_type": "code",
   "execution_count": 1,
   "metadata": {},
   "outputs": [],
   "source": [
    "import os\n",
    "os.chdir(os.path.pardir)\n",
    "\n",
    "# Testing classes\n",
    "from src.market.spot import Spot\n",
    "from src.market_actor import MarketActorStub\n",
    "from src.market_listener import MarketListenerStub"
   ]
  },
  {
   "cell_type": "code",
   "execution_count": 2,
   "metadata": {},
   "outputs": [],
   "source": [
    "transact_fee_rate = 0.2 / 100\n",
    "\n",
    "market = Spot(\"ETH\", \"USD\")\n",
    "market_listener = MarketListenerStub(market)\n",
    "market_actor = MarketActorStub(transact_fee_rate)"
   ]
  },
  {
   "cell_type": "code",
   "execution_count": 3,
   "metadata": {},
   "outputs": [],
   "source": [
    "stop_loss_rate = 2 / 100"
   ]
  },
  {
   "cell_type": "markdown",
   "metadata": {},
   "source": [
    "## Trailing Stop Loss"
   ]
  },
  {
   "cell_type": "code",
   "execution_count": 4,
   "metadata": {},
   "outputs": [],
   "source": [
    "from src.advance_order.trailing_stop_loss import TrailingStopLoss\n",
    "\n",
    "entry_price = 1000\n",
    "trailing_rate = 1 / 100"
   ]
  },
  {
   "cell_type": "markdown",
   "metadata": {},
   "source": [
    "### Long Position"
   ]
  },
  {
   "cell_type": "code",
   "execution_count": 5,
   "metadata": {},
   "outputs": [
    {
     "name": "stdout",
     "output_type": "stream",
     "text": [
      "Bought 10.00 units of ETH/USD    at 1000.00\n"
     ]
    },
    {
     "data": {
      "text/plain": [
       "'trigger_price = 990.0'"
      ]
     },
     "execution_count": 5,
     "metadata": {},
     "output_type": "execute_result"
    }
   ],
   "source": [
    "long_position = market_actor.open_position(market, price=entry_price, size=10)\n",
    "\n",
    "trailing_stop_loss = TrailingStopLoss(long_position, market_actor, market_listener,\n",
    "        entry_price, trailing_rate, use_orderbook=False)\n",
    "\n",
    "f\"trigger_price = {trailing_stop_loss.stop_loss_price}\""
   ]
  },
  {
   "cell_type": "code",
   "execution_count": 6,
   "metadata": {},
   "outputs": [
    {
     "data": {
      "text/plain": [
       "'trigger_price = 1089.0'"
      ]
     },
     "execution_count": 6,
     "metadata": {},
     "output_type": "execute_result"
    }
   ],
   "source": [
    "# Not triggered: change in stop_loss_price\n",
    "market_listener.set_current_price(1100)\n",
    "trailing_stop_loss.update()\n",
    "\n",
    "f\"trigger_price = {trailing_stop_loss.stop_loss_price}\""
   ]
  },
  {
   "cell_type": "code",
   "execution_count": 7,
   "metadata": {},
   "outputs": [
    {
     "data": {
      "text/plain": [
       "'trigger_price = 1089.0'"
      ]
     },
     "execution_count": 7,
     "metadata": {},
     "output_type": "execute_result"
    }
   ],
   "source": [
    "# Not triggered: no change in stop_loss_price\n",
    "market_listener.set_current_price(1090)\n",
    "trailing_stop_loss.update()\n",
    "\n",
    "f\"trigger_price = {trailing_stop_loss.stop_loss_price}\""
   ]
  },
  {
   "cell_type": "code",
   "execution_count": 8,
   "metadata": {},
   "outputs": [
    {
     "name": "stdout",
     "output_type": "stream",
     "text": [
      "Sold   9.98 units of ETH/USD    at 1080.00\n",
      "Order filled = True\n"
     ]
    },
    {
     "data": {
      "text/plain": [
       "{'ETH': 0.0, 'USD': 756.8431999999993}"
      ]
     },
     "execution_count": 8,
     "metadata": {},
     "output_type": "execute_result"
    }
   ],
   "source": [
    "# Triggered\n",
    "market_listener.set_current_price(1080)\n",
    "trailing_stop_loss.update()\n",
    "\n",
    "print(f\"Order filled = {trailing_stop_loss.filled}\")\n",
    "# View ending position\n",
    "trailing_stop_loss.position.balances"
   ]
  },
  {
   "cell_type": "markdown",
   "metadata": {},
   "source": [
    "### Short Position"
   ]
  },
  {
   "cell_type": "code",
   "execution_count": 9,
   "metadata": {},
   "outputs": [
    {
     "name": "stdout",
     "output_type": "stream",
     "text": [
      "Sold   10.00 units of ETH/USD    at 1000.00\n"
     ]
    },
    {
     "data": {
      "text/plain": [
       "'trigger_price = 1010.0'"
      ]
     },
     "execution_count": 9,
     "metadata": {},
     "output_type": "execute_result"
    }
   ],
   "source": [
    "short_position = market_actor.open_position(market, price=entry_price, size=-10)\n",
    "\n",
    "trailing_stop_loss = TrailingStopLoss(short_position, market_actor, market_listener,\n",
    "        entry_price, trailing_rate, use_orderbook=False)\n",
    "\n",
    "f\"trigger_price = {trailing_stop_loss.stop_loss_price}\""
   ]
  },
  {
   "cell_type": "code",
   "execution_count": 10,
   "metadata": {},
   "outputs": [
    {
     "data": {
      "text/plain": [
       "'trigger_price = 909.0'"
      ]
     },
     "execution_count": 10,
     "metadata": {},
     "output_type": "execute_result"
    }
   ],
   "source": [
    "# Not triggered: change in stop_loss_price\n",
    "market_listener.set_current_price(900)\n",
    "trailing_stop_loss.update()\n",
    "\n",
    "f\"trigger_price = {trailing_stop_loss.stop_loss_price}\""
   ]
  },
  {
   "cell_type": "code",
   "execution_count": 11,
   "metadata": {},
   "outputs": [
    {
     "name": "stdout",
     "output_type": "stream",
     "text": [
      "Bought 10.02 units of ETH/USD    at 950.00\n",
      "Order filled = True\n"
     ]
    },
    {
     "data": {
      "text/plain": [
       "{'ETH': 0.0, 'USD': 460.9619238476953}"
      ]
     },
     "execution_count": 11,
     "metadata": {},
     "output_type": "execute_result"
    }
   ],
   "source": [
    "# Triggered\n",
    "market_listener.set_current_price(950)\n",
    "trailing_stop_loss.update()\n",
    "\n",
    "print(f\"Order filled = {trailing_stop_loss.filled}\")\n",
    "# View ending position\n",
    "trailing_stop_loss.position.balances"
   ]
  },
  {
   "cell_type": "markdown",
   "metadata": {},
   "source": [
    "## Convertible Stop Loss"
   ]
  },
  {
   "cell_type": "code",
   "execution_count": 12,
   "metadata": {},
   "outputs": [],
   "source": [
    "from src.advance_order.convertible_stop_loss import ConvertibleStopLoss"
   ]
  },
  {
   "cell_type": "code",
   "execution_count": 13,
   "metadata": {},
   "outputs": [
    {
     "name": "stdout",
     "output_type": "stream",
     "text": [
      "Bought 10.00 units of ETH/USD    at 1000.00\n",
      "trigger_price = 980.0\n"
     ]
    },
    {
     "data": {
      "text/plain": [
       "2.0000000000000018"
      ]
     },
     "execution_count": 13,
     "metadata": {},
     "output_type": "execute_result"
    }
   ],
   "source": [
    "long_position = market_actor.open_position(market, price=entry_price, size=10)\n",
    "\n",
    "convertible_stop_loss = ConvertibleStopLoss(long_position, market_actor, market_listener,\n",
    "        entry_price, stop_loss_rate, trailing_rate, use_orderbook=False, stop_loss_as_rate=True)\n",
    "\n",
    "print(f\"trigger_price = {convertible_stop_loss.stop_loss_price}\")\n",
    "(1 - convertible_stop_loss.stop_loss_price / entry_price) * 100"
   ]
  },
  {
   "cell_type": "code",
   "execution_count": 14,
   "metadata": {},
   "outputs": [
    {
     "name": "stdout",
     "output_type": "stream",
     "text": [
      "trigger_price = 1039.5\n"
     ]
    },
    {
     "data": {
      "text/plain": [
       "1.0000000000000009"
      ]
     },
     "execution_count": 14,
     "metadata": {},
     "output_type": "execute_result"
    }
   ],
   "source": [
    "# Not triggered: change in stop_loss_price to trailing rate\n",
    "market_listener.set_current_price(1050)\n",
    "convertible_stop_loss.update()\n",
    "\n",
    "print(f\"trigger_price = {convertible_stop_loss.stop_loss_price}\")\n",
    "(1 - convertible_stop_loss.stop_loss_price / 1050) * 100"
   ]
  },
  {
   "cell_type": "code",
   "execution_count": 15,
   "metadata": {},
   "outputs": [
    {
     "name": "stdout",
     "output_type": "stream",
     "text": [
      "Sold   9.98 units of ETH/USD    at 1020.00\n",
      "Order filled = True\n"
     ]
    },
    {
     "data": {
      "text/plain": [
       "{'ETH': 0.0, 'USD': 159.24079999999958}"
      ]
     },
     "execution_count": 15,
     "metadata": {},
     "output_type": "execute_result"
    }
   ],
   "source": [
    "# Triggered\n",
    "market_listener.set_current_price(1020)\n",
    "convertible_stop_loss.update()\n",
    "\n",
    "print(f\"Order filled = {convertible_stop_loss.filled}\")\n",
    "# View ending position\n",
    "convertible_stop_loss.position.balances"
   ]
  }
 ],
 "metadata": {
  "kernelspec": {
   "display_name": "Python 3.10.5 64-bit",
   "language": "python",
   "name": "python3"
  },
  "language_info": {
   "codemirror_mode": {
    "name": "ipython",
    "version": 3
   },
   "file_extension": ".py",
   "mimetype": "text/x-python",
   "name": "python",
   "nbconvert_exporter": "python",
   "pygments_lexer": "ipython3",
   "version": "3.10.5"
  },
  "orig_nbformat": 4,
  "vscode": {
   "interpreter": {
    "hash": "90d99a365a6800d6d3b874802d775db992b69c47481bfc65e12294d647a46c22"
   }
  }
 },
 "nbformat": 4,
 "nbformat_minor": 2
}
