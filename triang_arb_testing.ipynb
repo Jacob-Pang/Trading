{
 "cells": [
  {
   "cell_type": "markdown",
   "metadata": {},
   "source": [
    "## Triangular Arbitrage Scanner"
   ]
  },
  {
   "cell_type": "markdown",
   "metadata": {},
   "source": [
    "### Libraries and Dependencies"
   ]
  },
  {
   "cell_type": "code",
   "execution_count": 8,
   "metadata": {},
   "outputs": [],
   "source": [
    "import time\n",
    "from concurrent.futures import ThreadPoolExecutor\n",
    "\n",
    "# Has private dependencies\n",
    "from src.trading_logic import TradingLogicBase\n",
    "from src.arbitrage.triangular import TriangularArbitrage\n",
    "from src.market_actor import EchoMarketActor\n",
    "from src.market_listener import MarketListenerBase, OrderBook, MarketListenerStub\n",
    "from src.market_listener.huobi import HuobiListener"
   ]
  },
  {
   "cell_type": "markdown",
   "metadata": {},
   "source": [
    "### Market Listeners"
   ]
  },
  {
   "cell_type": "code",
   "execution_count": 9,
   "metadata": {},
   "outputs": [],
   "source": [
    "ADA_USDT = MarketListenerStub(market=(\"ADA\", \"USDT\"))\n",
    "ADA_ETH = MarketListenerStub(market=(\"ADA\", \"ETH\"))\n",
    "ETH_USDT = MarketListenerStub(market=(\"ETH\", \"USDT\"))\n",
    "\n",
    "market_listeners = [ADA_USDT, ADA_ETH, ETH_USDT]"
   ]
  },
  {
   "cell_type": "code",
   "execution_count": 10,
   "metadata": {},
   "outputs": [],
   "source": [
    "def subscribe(market_listeners: list[MarketListenerBase]):\n",
    "    for market_listener in market_listeners:\n",
    "        market_listener.subscribe()\n",
    "\n",
    "    for market_listener in market_listeners:\n",
    "        while not market_listener.rendered():\n",
    "            time.sleep(.5) # Busy waiting"
   ]
  },
  {
   "cell_type": "code",
   "execution_count": 11,
   "metadata": {},
   "outputs": [],
   "source": [
    "subscribe(market_listeners)"
   ]
  },
  {
   "cell_type": "code",
   "execution_count": 12,
   "metadata": {},
   "outputs": [],
   "source": [
    "mthread_executor = ThreadPoolExecutor(max_workers=3)"
   ]
  },
  {
   "cell_type": "markdown",
   "metadata": {},
   "source": [
    "### Market Actor\n",
    "Actors abstract the order execution process"
   ]
  },
  {
   "cell_type": "code",
   "execution_count": 13,
   "metadata": {},
   "outputs": [],
   "source": [
    "echo = EchoMarketActor(name=\"demo\", transact_fee_rate=0.26/100)"
   ]
  },
  {
   "cell_type": "markdown",
   "metadata": {},
   "source": [
    "### Trading Logic\n",
    "Logic determines the price and size of the positions to enter"
   ]
  },
  {
   "cell_type": "code",
   "execution_count": 14,
   "metadata": {},
   "outputs": [],
   "source": [
    "class CustomTradingLogic (TradingLogicBase):\n",
    "    # A conservative approach should scan the 2nd entry (index=1) in the orderbook\n",
    "    scan_entry_num = 0\n",
    "\n",
    "    def get_size_from_portfolio(self, portfolio_value: float) -> float:\n",
    "        return 1 # For demo purposes only\n",
    "\n",
    "    def get_buy_price_from_orderbook(self, orderbook: OrderBook) -> float:\n",
    "        ask_price, _, _ = orderbook.get_ask(self.scan_entry_num)\n",
    "        return ask_price\n",
    "\n",
    "    def get_buy_size_from_orderbook(self, orderbook: OrderBook) -> float:\n",
    "        _, ask_size, _ = orderbook.get_ask(self.scan_entry_num)\n",
    "        return ask_size\n",
    "\n",
    "    def get_sell_price_from_orderbook(self, orderbook: OrderBook) -> float:\n",
    "        bid_price, _, _ = orderbook.get_bid(self.scan_entry_num)\n",
    "        return bid_price\n",
    "\n",
    "    def get_sell_size_from_orderbook(self, orderbook: OrderBook) -> float:\n",
    "        _, bid_size, _ = orderbook.get_bid(self.scan_entry_num)\n",
    "        return bid_size"
   ]
  },
  {
   "cell_type": "code",
   "execution_count": 15,
   "metadata": {},
   "outputs": [],
   "source": [
    "trading_logic = CustomTradingLogic()"
   ]
  },
  {
   "cell_type": "markdown",
   "metadata": {},
   "source": [
    "### Arbitrage Machine"
   ]
  },
  {
   "cell_type": "code",
   "execution_count": 16,
   "metadata": {},
   "outputs": [],
   "source": [
    "arb_scanner = TriangularArbitrage(\n",
    "    origin_curr=\"USDT\",\n",
    "    trading_logic=trading_logic,\n",
    "    market_listeners=market_listeners,\n",
    "    market_actors=[echo, echo, echo]\n",
    ")"
   ]
  },
  {
   "cell_type": "code",
   "execution_count": 17,
   "metadata": {},
   "outputs": [
    {
     "name": "stdout",
     "output_type": "stream",
     "text": [
      "Forward Path\n",
      "Long ('ADA', 'USDT')\n",
      "Short ('ADA', 'ETH')\n",
      "Short ('ETH', 'USDT')\n",
      "\n",
      "Reverse Path\n",
      "Long ('ETH', 'USDT')\n",
      "Long ('ADA', 'ETH')\n",
      "Short ('ADA', 'USDT')\n"
     ]
    }
   ],
   "source": [
    "# Sanity checks\n",
    "print(\"Forward Path\")\n",
    "for node in arb_scanner.forward_path:\n",
    "    print(node)\n",
    "\n",
    "print(\"\\nReverse Path\")\n",
    "for node in arb_scanner.reverse_path:\n",
    "    print(node)"
   ]
  },
  {
   "cell_type": "markdown",
   "metadata": {},
   "source": [
    "### Arbitrage Scanning Test"
   ]
  },
  {
   "cell_type": "code",
   "execution_count": 18,
   "metadata": {},
   "outputs": [
    {
     "name": "stdout",
     "output_type": "stream",
     "text": [
      "Buy  1.01 ADA   at 0.99 USDT \n",
      "Sell 1.01 ADA   at 1.00 ETH  \n",
      "Sell 1.00 ETH   at 1.00 USDT \n"
     ]
    },
    {
     "data": {
      "text/plain": [
       "True"
      ]
     },
     "execution_count": 18,
     "metadata": {},
     "output_type": "execute_result"
    }
   ],
   "source": [
    "# Construct an arbitrage opportunity for forward path\n",
    "ADA_USDT.orderbook.reset()\n",
    "ADA_ETH.orderbook.reset()\n",
    "ETH_USDT.orderbook.reset()\n",
    "\n",
    "ADA_USDT.orderbook.append_ask(0.99, 100)\n",
    "ADA_ETH.orderbook.append_bid(1, 100)\n",
    "ETH_USDT.orderbook.append_bid(1, 100)\n",
    "\n",
    "# No reverse path arbitrage\n",
    "ADA_USDT.orderbook.append_bid(1, 100)\n",
    "ADA_ETH.orderbook.append_ask(1, 100)\n",
    "ETH_USDT.orderbook.append_ask(1, 100)\n",
    "\n",
    "arb_scanner.scan_and_execute(1)"
   ]
  },
  {
   "cell_type": "code",
   "execution_count": 19,
   "metadata": {},
   "outputs": [
    {
     "name": "stdout",
     "output_type": "stream",
     "text": [
      "Buy  1.00 ETH   at 1.00 USDT \n",
      "Buy  1.00 ADA   at 1.00 ETH  \n",
      "Sell 1.00 ADA   at 1.01 USDT \n"
     ]
    },
    {
     "data": {
      "text/plain": [
       "True"
      ]
     },
     "execution_count": 19,
     "metadata": {},
     "output_type": "execute_result"
    }
   ],
   "source": [
    "# Construct an arbitrage opportunity for reverse path\n",
    "ADA_USDT.orderbook.reset()\n",
    "ADA_ETH.orderbook.reset()\n",
    "ETH_USDT.orderbook.reset()\n",
    "\n",
    "# No forward path arbitrage\n",
    "ADA_USDT.orderbook.append_ask(1, 100)\n",
    "ADA_ETH.orderbook.append_bid(1, 100)\n",
    "ETH_USDT.orderbook.append_bid(1, 100)\n",
    "\n",
    "ADA_USDT.orderbook.append_bid(1.01, 100)\n",
    "ADA_ETH.orderbook.append_ask(1, 100)\n",
    "ETH_USDT.orderbook.append_ask(1, 100)\n",
    "\n",
    "arb_scanner.scan_and_execute(1)"
   ]
  },
  {
   "cell_type": "markdown",
   "metadata": {},
   "source": [
    "### Shutting down Listeners"
   ]
  },
  {
   "cell_type": "code",
   "execution_count": 20,
   "metadata": {},
   "outputs": [],
   "source": [
    "for market_listener in market_listeners:\n",
    "    market_listener.close()"
   ]
  },
  {
   "cell_type": "code",
   "execution_count": null,
   "metadata": {},
   "outputs": [],
   "source": []
  }
 ],
 "metadata": {
  "kernelspec": {
   "display_name": "Python 3.10.5 64-bit",
   "language": "python",
   "name": "python3"
  },
  "language_info": {
   "codemirror_mode": {
    "name": "ipython",
    "version": 3
   },
   "file_extension": ".py",
   "mimetype": "text/x-python",
   "name": "python",
   "nbconvert_exporter": "python",
   "pygments_lexer": "ipython3",
   "version": "3.10.5"
  },
  "orig_nbformat": 4,
  "vscode": {
   "interpreter": {
    "hash": "90d99a365a6800d6d3b874802d775db992b69c47481bfc65e12294d647a46c22"
   }
  }
 },
 "nbformat": 4,
 "nbformat_minor": 2
}
