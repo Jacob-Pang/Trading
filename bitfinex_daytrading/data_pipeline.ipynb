{
 "cells": [
  {
   "cell_type": "markdown",
   "metadata": {},
   "source": [
    "# Configuration and Infrastructure"
   ]
  },
  {
   "cell_type": "code",
   "execution_count": 1,
   "metadata": {},
   "outputs": [],
   "source": [
    "import os\n",
    "\n",
    "data_dpath = os.path.join(os.getcwd(), \"data\")\n",
    "os.chdir(os.path.pardir)"
   ]
  },
  {
   "cell_type": "code",
   "execution_count": 2,
   "metadata": {},
   "outputs": [],
   "source": [
    "MINUTE = 60\n",
    "HOUR = 60 * MINUTE\n",
    "\n",
    "FRAME_RESOLUTIONS = [ MINUTE, 5 * MINUTE, 10 * MINUTE, 30 * MINUTE, HOUR ]\n",
    "BUFFER_CAPACITY = 50\n",
    "CONTAINER_CAPACITY = 2000"
   ]
  },
  {
   "cell_type": "markdown",
   "metadata": {},
   "source": [
    "## Making Candle Buffers"
   ]
  },
  {
   "cell_type": "code",
   "execution_count": 3,
   "metadata": {},
   "outputs": [],
   "source": [
    "from src.candle_buffer import CandleBuffer\n",
    "\n",
    "candles_buffers = {\n",
    "    frame_resolution: CandleBuffer(frame_resolution, BUFFER_CAPACITY, CONTAINER_CAPACITY)\n",
    "    for frame_resolution in FRAME_RESOLUTIONS\n",
    "}"
   ]
  },
  {
   "cell_type": "markdown",
   "metadata": {},
   "source": [
    "## Making Indicators"
   ]
  },
  {
   "cell_type": "code",
   "execution_count": 4,
   "metadata": {},
   "outputs": [
    {
     "data": {
      "text/plain": [
       "471"
      ]
     },
     "execution_count": 4,
     "metadata": {},
     "output_type": "execute_result"
    }
   ],
   "source": [
    "from src.indicator import FeaturesCompiler\n",
    "from src.indicator.fear_and_greed import CryptoFearAndGreed\n",
    "from src.indicator.momentum import get_momentum_indicator_suite\n",
    "from src.indicator.pattern import get_pattern_indicator_suite\n",
    "\n",
    "indicators = [ CryptoFearAndGreed(apply_scaling=True), ]\n",
    "\n",
    "for candle_buffer in candles_buffers.values():\n",
    "    indicators.extend(get_momentum_indicator_suite(candle_buffer))\n",
    "    indicators.extend(get_pattern_indicator_suite(candle_buffer))\n",
    "\n",
    "features_compiler = FeaturesCompiler(indicators)\n",
    "features_compiler.get_num_features()"
   ]
  },
  {
   "cell_type": "markdown",
   "metadata": {},
   "source": [
    "## Making and Saving Data Pipeline Image"
   ]
  },
  {
   "cell_type": "code",
   "execution_count": 5,
   "metadata": {},
   "outputs": [],
   "source": [
    "data_pipeline = {\n",
    "    \"candle_buffers\": candles_buffers,\n",
    "    \"features_compiler\": features_compiler\n",
    "}"
   ]
  },
  {
   "cell_type": "code",
   "execution_count": 6,
   "metadata": {},
   "outputs": [],
   "source": [
    "import pickle\n",
    "\n",
    "with open(os.path.join(data_dpath, \"data_pipeline.pickle\"), \"wb\") as file:\n",
    "    pickle.dump(data_pipeline, file)"
   ]
  },
  {
   "cell_type": "markdown",
   "metadata": {},
   "source": [
    "## Loading Data Pipeline Image"
   ]
  },
  {
   "cell_type": "code",
   "execution_count": 22,
   "metadata": {},
   "outputs": [],
   "source": [
    "with open(os.path.join(data_dpath, \"data_pipeline.pickle\"), \"rb\") as file:\n",
    "    data_pipeline = pickle.load(file)\n",
    "    \n",
    "    candle_buffers = data_pipeline.get(\"candle_buffers\")\n",
    "    features_compiler = data_pipeline.get(\"features_compiler\")"
   ]
  },
  {
   "cell_type": "code",
   "execution_count": null,
   "metadata": {},
   "outputs": [],
   "source": []
  }
 ],
 "metadata": {
  "kernelspec": {
   "display_name": "Python 3.10.5 64-bit",
   "language": "python",
   "name": "python3"
  },
  "language_info": {
   "codemirror_mode": {
    "name": "ipython",
    "version": 3
   },
   "file_extension": ".py",
   "mimetype": "text/x-python",
   "name": "python",
   "nbconvert_exporter": "python",
   "pygments_lexer": "ipython3",
   "version": "3.10.5"
  },
  "orig_nbformat": 4,
  "vscode": {
   "interpreter": {
    "hash": "90d99a365a6800d6d3b874802d775db992b69c47481bfc65e12294d647a46c22"
   }
  }
 },
 "nbformat": 4,
 "nbformat_minor": 2
}
