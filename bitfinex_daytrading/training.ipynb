{
 "cells": [
  {
   "cell_type": "markdown",
   "metadata": {},
   "source": [
    "# Training TensorFlow Trading Bot"
   ]
  },
  {
   "cell_type": "code",
   "execution_count": 1,
   "metadata": {},
   "outputs": [],
   "source": [
    "import os\n",
    "\n",
    "data_dpath = os.path.join(os.getcwd(), \"data\")\n",
    "models_dpath = os.path.join(os.getcwd(), \"models\")\n",
    "os.chdir(os.path.pardir)"
   ]
  },
  {
   "cell_type": "markdown",
   "metadata": {},
   "source": [
    "## Model Configuration"
   ]
  },
  {
   "cell_type": "code",
   "execution_count": 2,
   "metadata": {},
   "outputs": [],
   "source": [
    "import tensorflow as tf\n",
    "\n",
    "INIT_LEARNING_RATE = 0.001\n",
    "BATCH_SIZE = 64\n",
    "EPOCHS = 100\n",
    "CLASSIFICATION_THRESHOLD = 0.35\n",
    "\n",
    "METRICS = [\n",
    "    tf.keras.metrics.BinaryAccuracy(\n",
    "        name='accuracy', threshold=CLASSIFICATION_THRESHOLD\n",
    "    ),\n",
    "    tf.keras.metrics.Precision(\n",
    "        name=\"precision\", thresholds=CLASSIFICATION_THRESHOLD,\n",
    "    )\n",
    "]"
   ]
  },
  {
   "cell_type": "code",
   "execution_count": 3,
   "metadata": {},
   "outputs": [],
   "source": [
    "import numpy as np\n",
    "from tensorflow.python import keras\n",
    "from tensorflow.python.keras.layers import Input, Dense\n",
    "from tensorflow.python.keras.initializers import Constant\n",
    "from tensorflow.python.keras.optimizers import adam_v2\n",
    "\n",
    "def make_classifier(num_features: int, outputs: np.ndarray, init_learning_rate: float = INIT_LEARNING_RATE,\n",
    "        metrics: list = METRICS):\n",
    "\n",
    "    positives = np.sum(outputs)\n",
    "    negatives = outputs.shape[0] - positives\n",
    "    bias_initializer = Constant(np.log([positives/ negatives]))\n",
    "\n",
    "    # Layers\n",
    "    input_layer = Input(shape=(num_features))\n",
    "    dense_layer = Dense(units=512, activation=\"relu\")(input_layer)\n",
    "    dense_layer = Dense(units=128, activation=\"relu\")(dense_layer)\n",
    "    dense_layer = Dense(units=32,  activation=\"relu\")(dense_layer)\n",
    "    output_layer = Dense(units=1, activation=\"sigmoid\", bias_initializer=bias_initializer) \\\n",
    "            (dense_layer) # Binary output\n",
    "\n",
    "    model = keras.Model(input_layer, output_layer)\n",
    "    model.compile(optimizer=adam_v2.Adam(init_learning_rate), loss='binary_crossentropy', metrics=metrics)\n",
    "\n",
    "    return model"
   ]
  },
  {
   "cell_type": "markdown",
   "metadata": {},
   "source": [
    "## Loading Datasets"
   ]
  },
  {
   "cell_type": "code",
   "execution_count": 4,
   "metadata": {},
   "outputs": [],
   "source": [
    "import pickle\n",
    "\n",
    "with open(os.path.join(data_dpath, \"data_pipeline.pickle\"), \"rb\") as file:\n",
    "    data_pipeline = pickle.load(file)\n",
    "    \n",
    "    candle_buffers = data_pipeline.get(\"candle_buffers\")\n",
    "    features_compiler = data_pipeline.get(\"features_compiler\")\n",
    "\n",
    "observations = np.load(os.path.join(data_dpath, \"observations.npy\"))\n",
    "long_signals = np.load(os.path.join(data_dpath, \"long_signals.npy\"))\n",
    "short_signals = np.load(os.path.join(data_dpath, \"short_signals.npy\"))"
   ]
  },
  {
   "cell_type": "markdown",
   "metadata": {},
   "source": [
    "## Making and Training Trading Engines"
   ]
  },
  {
   "cell_type": "code",
   "execution_count": 5,
   "metadata": {},
   "outputs": [],
   "source": [
    "long_classifier = make_classifier(features_compiler.get_num_features(), long_signals)\n",
    "short_classifier = make_classifier(features_compiler.get_num_features(), short_signals)"
   ]
  },
  {
   "cell_type": "code",
   "execution_count": 6,
   "metadata": {},
   "outputs": [],
   "source": [
    "import pandas as pd\n",
    "o = pd.DataFrame(observations)"
   ]
  },
  {
   "cell_type": "code",
   "execution_count": 7,
   "metadata": {},
   "outputs": [
    {
     "name": "stdout",
     "output_type": "stream",
     "text": [
      "Epoch 1/10\n",
      "103/103 [==============================] - 1s 4ms/step - loss: 1.7034 - accuracy: 0.6894 - precision: 0.4804 - val_loss: 6.8890 - val_accuracy: 0.7779 - val_precision: 0.6246\n",
      "Epoch 2/10\n",
      "103/103 [==============================] - 0s 2ms/step - loss: 0.2367 - accuracy: 0.8088 - precision: 0.6804 - val_loss: 5.9561 - val_accuracy: 0.8300 - val_precision: 0.7205\n",
      "Epoch 3/10\n",
      "103/103 [==============================] - 0s 2ms/step - loss: 0.1878 - accuracy: 0.8428 - precision: 0.7442 - val_loss: 7.8875 - val_accuracy: 0.8538 - val_precision: 0.7651\n",
      "Epoch 4/10\n",
      "103/103 [==============================] - 0s 2ms/step - loss: 0.1307 - accuracy: 0.8634 - precision: 0.7831 - val_loss: 9.1590 - val_accuracy: 0.8707 - val_precision: 0.7982\n",
      "Epoch 5/10\n",
      "103/103 [==============================] - 0s 3ms/step - loss: 0.1652 - accuracy: 0.8771 - precision: 0.8104 - val_loss: 8.2059 - val_accuracy: 0.8801 - val_precision: 0.8169\n",
      "Epoch 6/10\n",
      "103/103 [==============================] - 0s 2ms/step - loss: 0.1231 - accuracy: 0.8841 - precision: 0.8245 - val_loss: 7.6529 - val_accuracy: 0.8880 - val_precision: 0.8321\n",
      "Epoch 7/10\n",
      "103/103 [==============================] - 0s 2ms/step - loss: 0.1317 - accuracy: 0.8913 - precision: 0.8386 - val_loss: 6.3727 - val_accuracy: 0.8936 - val_precision: 0.8436\n",
      "Epoch 8/10\n",
      "103/103 [==============================] - 0s 2ms/step - loss: 0.1048 - accuracy: 0.8962 - precision: 0.8483 - val_loss: 7.9069 - val_accuracy: 0.8988 - val_precision: 0.8537\n",
      "Epoch 9/10\n",
      "103/103 [==============================] - 0s 3ms/step - loss: 0.1096 - accuracy: 0.9008 - precision: 0.8573 - val_loss: 10.8393 - val_accuracy: 0.9022 - val_precision: 0.8605\n",
      "Epoch 10/10\n",
      "103/103 [==============================] - 0s 2ms/step - loss: 0.1046 - accuracy: 0.9039 - precision: 0.8638 - val_loss: 9.7409 - val_accuracy: 0.9056 - val_precision: 0.8673\n"
     ]
    },
    {
     "data": {
      "text/plain": [
       "<tensorflow.python.keras.callbacks.History at 0x24bd2ea1e10>"
      ]
     },
     "execution_count": 7,
     "metadata": {},
     "output_type": "execute_result"
    }
   ],
   "source": [
    "long_classifier.fit(\n",
    "    x=observations[:long_signals.shape[0]],\n",
    "    y=long_signals,\n",
    "    batch_size=BATCH_SIZE,\n",
    "    epochs=EPOCHS,\n",
    "    validation_split=0.05,\n",
    "    verbose=True\n",
    ")"
   ]
  },
  {
   "cell_type": "code",
   "execution_count": 8,
   "metadata": {},
   "outputs": [
    {
     "name": "stdout",
     "output_type": "stream",
     "text": [
      "INFO:tensorflow:Assets written to: c:\\Users\\jacob\\repositories\\Trading\\bitfinex_daytrading\\models\\training\\long_trading_engine\\assets\n"
     ]
    }
   ],
   "source": [
    "long_classifier.save(os.path.join(models_dpath, \"training\", \"long_trading_engine\"))"
   ]
  },
  {
   "cell_type": "code",
   "execution_count": null,
   "metadata": {},
   "outputs": [],
   "source": [
    "short_classifier.fit(\n",
    "    x=observations[:short_signals.shape[0]],\n",
    "    y=short_signals,\n",
    "    batch_size=BATCH_SIZE,\n",
    "    epochs=EPOCHS,\n",
    "    validation_split=0.05,\n",
    "    verbose=True\n",
    ")"
   ]
  },
  {
   "cell_type": "code",
   "execution_count": null,
   "metadata": {},
   "outputs": [],
   "source": [
    "short_classifier.save(os.path.join(models_dpath, \"training\", \"short_trading_engine\"))"
   ]
  }
 ],
 "metadata": {
  "kernelspec": {
   "display_name": "Python 3.10.5 64-bit",
   "language": "python",
   "name": "python3"
  },
  "language_info": {
   "codemirror_mode": {
    "name": "ipython",
    "version": 3
   },
   "file_extension": ".py",
   "mimetype": "text/x-python",
   "name": "python",
   "nbconvert_exporter": "python",
   "pygments_lexer": "ipython3",
   "version": "3.10.5"
  },
  "orig_nbformat": 4,
  "vscode": {
   "interpreter": {
    "hash": "90d99a365a6800d6d3b874802d775db992b69c47481bfc65e12294d647a46c22"
   }
  }
 },
 "nbformat": 4,
 "nbformat_minor": 2
}
