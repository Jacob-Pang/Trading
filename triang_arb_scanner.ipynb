{
 "cells": [
  {
   "cell_type": "markdown",
   "metadata": {},
   "source": [
    "## Triangular Arbitrage Scanner"
   ]
  },
  {
   "cell_type": "markdown",
   "metadata": {},
   "source": [
    "### Libraries and Dependencies"
   ]
  },
  {
   "cell_type": "code",
   "execution_count": 1,
   "metadata": {},
   "outputs": [],
   "source": [
    "import time\n",
    "from concurrent.futures import ThreadPoolExecutor\n",
    "\n",
    "# Has private dependencies\n",
    "from src.trading_logic import TradingLogicBase\n",
    "from src.arbitrage.triangular import TriangularArbitrage\n",
    "from src.market_actor import EchoMarketActor\n",
    "from src.market_listener import MarketListenerBase, OrderBook\n",
    "from src.market_listener.huobi import HuobiListener"
   ]
  },
  {
   "cell_type": "markdown",
   "metadata": {},
   "source": [
    "### Market Listeners"
   ]
  },
  {
   "cell_type": "code",
   "execution_count": 2,
   "metadata": {},
   "outputs": [],
   "source": [
    "SOL_USDC = HuobiListener(market=(\"SOL\", \"USDC\"), headless_mode=True)\n",
    "ETH_USDC = HuobiListener(market=(\"ETH\", \"USDC\"), headless_mode=True)\n",
    "SOL_ETH  = HuobiListener(market=(\"SOL\", \"ETH\"),  headless_mode=True)\n",
    "\n",
    "market_listeners = [SOL_USDC, ETH_USDC, SOL_ETH]"
   ]
  },
  {
   "cell_type": "code",
   "execution_count": 3,
   "metadata": {},
   "outputs": [],
   "source": [
    "def subscribe(market_listeners: list[MarketListenerBase]):\n",
    "    for market_listener in market_listeners:\n",
    "        market_listener.subscribe()\n",
    "\n",
    "        current_time = time.time()\n",
    "\n",
    "        # timeout of 30s\n",
    "        while (time.time() > current_time + 30) and not market_listener.rendered():\n",
    "            time.sleep(.5) # Busy waiting\n",
    "\n",
    "        assert market_listener.rendered()"
   ]
  },
  {
   "cell_type": "code",
   "execution_count": 4,
   "metadata": {},
   "outputs": [],
   "source": [
    "subscribe(market_listeners)"
   ]
  },
  {
   "cell_type": "code",
   "execution_count": 5,
   "metadata": {},
   "outputs": [],
   "source": [
    "mthread_executor = ThreadPoolExecutor(max_workers=3)"
   ]
  },
  {
   "cell_type": "markdown",
   "metadata": {},
   "source": [
    "#### Testing Updating in Concurrency"
   ]
  },
  {
   "cell_type": "code",
   "execution_count": 10,
   "metadata": {},
   "outputs": [
    {
     "name": "stdout",
     "output_type": "stream",
     "text": [
      "(14.7233, 100.06)    , (1208.33, 0.047)     , (0.011851, 2.4)     \n",
      "(14.7214, 28.93)     , (1208.33, 0.047)     , (0.011852, 18.53)   \n",
      "(14.7191, 104.02)    , (1208.33, 0.047)     , (0.011851, 0.69)    \n",
      "(14.7147, 3.96)      , (1208.33, 0.047)     , (0.011851, 18.53)   \n",
      "(14.7132, 2.4)       , (1208.33, 0.047)     , (0.011852, 18.53)   \n",
      "(14.7115, 1.2)       , (1208.33, 0.047)     , (0.011852, 18.53)   \n",
      "(14.7158, 32.88)     , (1208.32, 0.2836)    , (0.011852, 18.53)   \n",
      "(14.7119, 100.06)    , (1208.33, 0.047)     , (0.011852, 18.53)   \n",
      "(14.7109, 100.06)    , (1208.33, 0.047)     , (0.011851, 12.43)   \n",
      "(14.7094, 28.92)     , (1208.33, 0.047)     , (0.011852, 18.53)   \n"
     ]
    }
   ],
   "source": [
    "for _ in range(10):\n",
    "    current_prices = [\n",
    "        f\"{str(market_listener.get_current_ask()):<20}\"\n",
    "        for market_listener in market_listeners\n",
    "    ]\n",
    "\n",
    "    print(\" , \".join(current_prices))\n",
    "    time.sleep(1)"
   ]
  },
  {
   "cell_type": "markdown",
   "metadata": {},
   "source": [
    "### Market Actor\n",
    "Actors abstract the order execution process"
   ]
  },
  {
   "cell_type": "code",
   "execution_count": 11,
   "metadata": {},
   "outputs": [],
   "source": [
    "echo = EchoMarketActor(name=\"demo\", transact_fee_rate=0.2 / 100)"
   ]
  },
  {
   "cell_type": "markdown",
   "metadata": {},
   "source": [
    "### Trading Logic\n",
    "Logic determines the price and size of the positions to enter"
   ]
  },
  {
   "cell_type": "code",
   "execution_count": 12,
   "metadata": {},
   "outputs": [],
   "source": [
    "class CustomTradingLogic (TradingLogicBase):\n",
    "    # A conservative approach should scan the 2nd entry (index=1) in the orderbook\n",
    "    scan_entry_num = 0\n",
    "\n",
    "    def get_size_from_portfolio(self, portfolio_value: float) -> float:\n",
    "        return 1 # For demo purposes only\n",
    "\n",
    "    def get_buy_price_from_orderbook(self, orderbook: OrderBook) -> float:\n",
    "        ask_price, _, _ = orderbook.get_ask(self.scan_entry_num)\n",
    "        return ask_price\n",
    "\n",
    "    def get_buy_size_from_orderbook(self, orderbook: OrderBook) -> float:\n",
    "        _, ask_size, _ = orderbook.get_ask(self.scan_entry_num)\n",
    "        return ask_size\n",
    "\n",
    "    def get_sell_price_from_orderbook(self, orderbook: OrderBook) -> float:\n",
    "        bid_price, _, _ = orderbook.get_bid(self.scan_entry_num)\n",
    "        return bid_price\n",
    "\n",
    "    def get_sell_size_from_orderbook(self, orderbook: OrderBook) -> float:\n",
    "        _, bid_size, _ = orderbook.get_bid(self.scan_entry_num)\n",
    "        return bid_size"
   ]
  },
  {
   "cell_type": "code",
   "execution_count": 13,
   "metadata": {},
   "outputs": [],
   "source": [
    "trading_logic = CustomTradingLogic()"
   ]
  },
  {
   "cell_type": "markdown",
   "metadata": {},
   "source": [
    "### Arbitrage Machine"
   ]
  },
  {
   "cell_type": "code",
   "execution_count": 14,
   "metadata": {},
   "outputs": [],
   "source": [
    "arb_scanner = TriangularArbitrage(\n",
    "    origin_curr=\"USDC\",\n",
    "    trading_logic=trading_logic,\n",
    "    market_listeners=market_listeners,\n",
    "    market_actors=[echo, echo, echo]\n",
    ")"
   ]
  },
  {
   "cell_type": "code",
   "execution_count": 15,
   "metadata": {},
   "outputs": [
    {
     "name": "stdout",
     "output_type": "stream",
     "text": [
      "Forward Path\n",
      "Long ('SOL', 'USDC')\n",
      "Short ('SOL', 'ETH')\n",
      "Short ('ETH', 'USDC')\n",
      "\n",
      "Reverse Path\n",
      "Long ('ETH', 'USDC')\n",
      "Long ('SOL', 'ETH')\n",
      "Short ('SOL', 'USDC')\n"
     ]
    }
   ],
   "source": [
    "# Sanity checks\n",
    "print(\"Forward Path\")\n",
    "for node in arb_scanner.forward_path:\n",
    "    print(node)\n",
    "\n",
    "print(\"\\nReverse Path\")\n",
    "for node in arb_scanner.reverse_path:\n",
    "    print(node)"
   ]
  },
  {
   "cell_type": "markdown",
   "metadata": {},
   "source": [
    "### Arbitrage Scanning Latency Test"
   ]
  },
  {
   "cell_type": "code",
   "execution_count": 16,
   "metadata": {},
   "outputs": [
    {
     "name": "stdout",
     "output_type": "stream",
     "text": [
      "Average Latency: 0.10s\n",
      "Maximum Latency: 0.51s\n"
     ]
    }
   ],
   "source": [
    "total_time, max_time, runs = 0, 0, 0\n",
    "\n",
    "for _ in range(10000):\n",
    "    try:\n",
    "        current_time = time.time()\n",
    "\n",
    "        # Updating orderbooks **********************************************************\n",
    "        futures = [\n",
    "            mthread_executor.submit(market_listener.update_orderbook)\n",
    "            for market_listener in market_listeners\n",
    "        ]\n",
    "        \n",
    "        for future in futures:\n",
    "            future.result()\n",
    "\n",
    "        # Scanning and executing trades\n",
    "        origin_size = trading_logic.get_size_from_portfolio(1000) # Demo purposes only\n",
    "\n",
    "        if arb_scanner.scan_and_execute(origin_size):\n",
    "            break\n",
    "        # ******************************************************************************\n",
    "\n",
    "        elapsed = time.time() - current_time\n",
    "        max_time = max(max_time, elapsed)\n",
    "        total_time += elapsed\n",
    "        runs += 1\n",
    "    except Exception as exc:\n",
    "        # Poor internet connection\n",
    "        subscribe(market_listeners)\n",
    "    \n",
    "print(f\"Average Latency: {total_time / runs:.2f}s\")\n",
    "print(f\"Maximum Latency: {max_time:.2f}s\")"
   ]
  },
  {
   "cell_type": "markdown",
   "metadata": {},
   "source": [
    "### Shutting down Listeners"
   ]
  },
  {
   "cell_type": "code",
   "execution_count": null,
   "metadata": {},
   "outputs": [],
   "source": [
    "for market_listener in market_listeners:\n",
    "    market_listener.close()"
   ]
  }
 ],
 "metadata": {
  "kernelspec": {
   "display_name": "Python 3.10.5 64-bit",
   "language": "python",
   "name": "python3"
  },
  "language_info": {
   "codemirror_mode": {
    "name": "ipython",
    "version": 3
   },
   "file_extension": ".py",
   "mimetype": "text/x-python",
   "name": "python",
   "nbconvert_exporter": "python",
   "pygments_lexer": "ipython3",
   "version": "3.10.5"
  },
  "orig_nbformat": 4,
  "vscode": {
   "interpreter": {
    "hash": "90d99a365a6800d6d3b874802d775db992b69c47481bfc65e12294d647a46c22"
   }
  }
 },
 "nbformat": 4,
 "nbformat_minor": 2
}
