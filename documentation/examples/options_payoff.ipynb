{
 "cells": [
  {
   "attachments": {},
   "cell_type": "markdown",
   "metadata": {},
   "source": [
    "# Options Payoff"
   ]
  },
  {
   "cell_type": "code",
   "execution_count": 1,
   "metadata": {},
   "outputs": [],
   "source": [
    "import os\n",
    "os.chdir(os.path.pardir)\n",
    "os.chdir(os.path.pardir)"
   ]
  },
  {
   "cell_type": "code",
   "execution_count": 2,
   "metadata": {},
   "outputs": [],
   "source": [
    "import datetime\n",
    "import numpy as np\n",
    "import matplotlib.pyplot\n",
    "\n",
    "from copy import copy\n",
    "from src.market.option import CallOptionMarket, PutOptionMarket\n",
    "from src.market_actor.stub import MarketActorStub\n",
    "from src.market_listener.stub import MarketListenerStub\n",
    "from src.price_model.gbm import GBMPriceModel\n",
    "from src.portfolio import Portfolio"
   ]
  },
  {
   "cell_type": "code",
   "execution_count": 3,
   "metadata": {},
   "outputs": [],
   "source": [
    "%matplotlib inline"
   ]
  },
  {
   "cell_type": "code",
   "execution_count": 4,
   "metadata": {},
   "outputs": [
    {
     "data": {
      "text/plain": [
       "0.02881240880485517"
      ]
     },
     "execution_count": 4,
     "metadata": {},
     "output_type": "execute_result"
    }
   ],
   "source": [
    "asset_ticker = \"CVNA\"\n",
    "expiry_datetime = datetime.datetime(2023, 2, 10)\n",
    "\n",
    "asset_spot_price = 7.77\n",
    "asset_ret_drift = .2\n",
    "asset_volatility = 2.08\n",
    "risk_free_rate = .06\n",
    "transact_cost_percent = 1\n",
    "\n",
    "price_model = GBMPriceModel(\n",
    "    [asset_ticker],\n",
    "    [asset_spot_price],\n",
    "    [asset_ret_drift],\n",
    "    np.array([[asset_volatility ** 2]]),\n",
    "    risk_free_rate,\n",
    "    time_step_size=1,\n",
    "    log_ret_values=True\n",
    ")\n",
    "\n",
    "price_model.time_step_size = price_model.get_time_to_expiry(expiry_datetime) \\\n",
    "        - 86400 / price_model.base_unit_of_time\n",
    "\n",
    "price_model.time_step_size"
   ]
  },
  {
   "cell_type": "code",
   "execution_count": 5,
   "metadata": {},
   "outputs": [],
   "source": [
    "# Option chain\n",
    "option_chain = {\n",
    "    7.0: ((1.17, 1.20), (0.46, 0.50)),\n",
    "    7.5: ((0.88, 0.97), (0.70, 0.76)),\n",
    "    8.0: ((0.73, 0.74), (0.98, 1.05)),\n",
    "    8.5: ((0.54, 0.60), (1.32, 1.42)),\n",
    "}\n",
    "\n",
    "call_markets = {\n",
    "    strike_price: CallOptionMarket(f\"C{strike_price}\", \"USD\", asset_ticker,\n",
    "            strike_price, expiry_datetime)\n",
    "    for strike_price in option_chain\n",
    "}\n",
    "\n",
    "put_markets = {\n",
    "    strike_price: PutOptionMarket(f\"C{strike_price}\", \"USD\", asset_ticker,\n",
    "            strike_price, expiry_datetime)\n",
    "    for strike_price in option_chain\n",
    "}"
   ]
  },
  {
   "cell_type": "code",
   "execution_count": 6,
   "metadata": {},
   "outputs": [],
   "source": [
    "# Portfolio generating function\n",
    "def make_portfolio(*order_params: tuple[(CallOptionMarket | PutOptionMarket), float, float]) \\\n",
    "    -> tuple[Portfolio, float]:\n",
    "    market_actor = MarketActorStub(transact_var_cost_rate_percent=transact_cost_percent)\n",
    "\n",
    "    for market, price, size in order_params:\n",
    "        order = market_actor.make_order(market, price, size)\n",
    "        market_actor.execute_order(order)\n",
    "\n",
    "    cash_offset = market_actor.portfolio.get_size(\"USD\")\n",
    "    market_actor.portfolio.remove(\"USD\")\n",
    "\n",
    "    return market_actor.portfolio, cash_offset"
   ]
  },
  {
   "attachments": {},
   "cell_type": "markdown",
   "metadata": {},
   "source": [
    "### Bull Call Spread"
   ]
  },
  {
   "cell_type": "code",
   "execution_count": 7,
   "metadata": {},
   "outputs": [
    {
     "name": "stdout",
     "output_type": "stream",
     "text": [
      "Submitted buy order of 1.00 C7.5       at 0.97\n",
      "Filled buy order of 1.00 C7.5       at 0.97\n",
      "Submitted sell order of 1.00 C8.5       at 0.54\n",
      "Filled sell order of 1.00 C8.5       at 0.54\n"
     ]
    }
   ],
   "source": [
    "bull_call_port, bull_call_offset = make_portfolio(\n",
    "    (call_markets[7.5], option_chain[7.5][0][1], 1),\n",
    "    (call_markets[8.5], option_chain[8.5][0][0], -1)\n",
    ")\n",
    "\n",
    "bull_call_price_dist = bull_call_port.get_price_dist(price_model)\n",
    "bull_call_ret_dist = bull_call_port.get_ret_dist(price_model)"
   ]
  },
  {
   "cell_type": "code",
   "execution_count": 8,
   "metadata": {},
   "outputs": [
    {
     "data": {
      "image/png": "[encoded data removed]",
      "text/plain": [
       "<Figure size 432x288 with 1 Axes>"
      ]
     },
     "metadata": {
      "needs_background": "light"
     },
     "output_type": "display_data"
    },
    {
     "data": {
      "text/plain": [
       "<sympy.plotting.plot.Plot at 0x1b6c7b16a10>"
      ]
     },
     "execution_count": 8,
     "metadata": {},
     "output_type": "execute_result"
    }
   ],
   "source": [
    "bull_call_price_dist.plot(tail_percentile=.025, density_weighted=True, offset=bull_call_offset)"
   ]
  },
  {
   "attachments": {},
   "cell_type": "markdown",
   "metadata": {},
   "source": [
    "## Neutral Strategies"
   ]
  },
  {
   "attachments": {},
   "cell_type": "markdown",
   "metadata": {},
   "source": [
    "### Butterfly Spread"
   ]
  },
  {
   "cell_type": "code",
   "execution_count": 9,
   "metadata": {},
   "outputs": [
    {
     "name": "stdout",
     "output_type": "stream",
     "text": [
      "Submitted buy order of 1.00 C7.5       at 0.97\n",
      "Filled buy order of 1.00 C7.5       at 0.97\n",
      "Submitted sell order of 2.00 C8.0       at 0.73\n",
      "Filled sell order of 2.00 C8.0       at 0.73\n",
      "Submitted buy order of 1.00 C8.5       at 0.60\n",
      "Filled buy order of 1.00 C8.5       at 0.60\n"
     ]
    }
   ],
   "source": [
    "butterfly_port, butterfly_offset = make_portfolio(\n",
    "    (call_markets[7.5], option_chain[7.5][0][1], 1),\n",
    "    (call_markets[8.0], option_chain[8.0][0][0], -2),\n",
    "    (call_markets[8.5], option_chain[8.5][0][1], 1))\n",
    "\n",
    "butterfly_price_dist = butterfly_port.get_price_dist(price_model)\n",
    "butterfly_ret_dist = butterfly_port.get_ret_dist(price_model)"
   ]
  },
  {
   "cell_type": "code",
   "execution_count": 10,
   "metadata": {},
   "outputs": [
    {
     "data": {
      "image/png": "[encoded data removed]",
      "text/plain": [
       "<Figure size 432x288 with 1 Axes>"
      ]
     },
     "metadata": {
      "needs_background": "light"
     },
     "output_type": "display_data"
    },
    {
     "data": {
      "text/plain": [
       "<sympy.plotting.plot.Plot at 0x1b6c7c11b40>"
      ]
     },
     "execution_count": 10,
     "metadata": {},
     "output_type": "execute_result"
    }
   ],
   "source": [
    "butterfly_price_dist.plot(tail_percentile=.025, density_weighted=True, offset=butterfly_offset)"
   ]
  },
  {
   "cell_type": "code",
   "execution_count": null,
   "metadata": {},
   "outputs": [],
   "source": [
    "# Sharpe ratio of naive portfolio\n",
    "(bull_call_ret_dist.get_expectation() - np.exp(price_model.get_risk_free_rate()\n",
    "        * price_model.get_time_step_size()) + 1) \\\n",
    "        / np.sqrt(bull_call_ret_dist.get_variance())"
   ]
  },
  {
   "cell_type": "code",
   "execution_count": null,
   "metadata": {},
   "outputs": [],
   "source": [
    "from src.portfolio.optimizer.tangent import TangentPortfolioOptimizer\n",
    "\n",
    "tangent_opt = TangentPortfolioOptimizer(price_model)\n",
    "opt_weights = tangent_opt.get_optimized_weights(portfolio)\n",
    "\n",
    "opt_weights"
   ]
  },
  {
   "cell_type": "code",
   "execution_count": null,
   "metadata": {},
   "outputs": [],
   "source": [
    "tangent_opt.apply_weights(portfolio, opt_weights)\n",
    "\n",
    "opt_port_price_dist = portfolio.get_price_dist(price_model)\n",
    "opt_port_ret_dist = portfolio.get_ret_dist(price_model)"
   ]
  },
  {
   "cell_type": "code",
   "execution_count": null,
   "metadata": {},
   "outputs": [],
   "source": [
    "opt_port_price_dist.plot(tail_percentile=.025, density_weighted=True)"
   ]
  },
  {
   "cell_type": "code",
   "execution_count": null,
   "metadata": {},
   "outputs": [],
   "source": [
    "opt_port_ret_dist.plot(tail_percentile=.025, density_weighted=True)"
   ]
  },
  {
   "cell_type": "code",
   "execution_count": null,
   "metadata": {},
   "outputs": [],
   "source": [
    "opt_port_ret_dist.get_expectation()"
   ]
  },
  {
   "cell_type": "code",
   "execution_count": null,
   "metadata": {},
   "outputs": [],
   "source": [
    "opt_port_ret_dist.get_variance()"
   ]
  },
  {
   "cell_type": "code",
   "execution_count": null,
   "metadata": {},
   "outputs": [],
   "source": [
    "# Sharpe ratio of tangent portfolio\n",
    "# Negative sharpe ratio implies shorting the tangent portfolio\n",
    "(opt_port_ret_dist.get_expectation() - np.exp(price_model.get_risk_free_rate()\n",
    "        * price_model.get_time_step_size()) + 1) \\\n",
    "        / np.sqrt(opt_port_ret_dist.get_variance())"
   ]
  },
  {
   "cell_type": "code",
   "execution_count": null,
   "metadata": {},
   "outputs": [],
   "source": []
  }
 ],
 "metadata": {
  "kernelspec": {
   "display_name": "Python 3.10.5 64-bit",
   "language": "python",
   "name": "python3"
  },
  "language_info": {
   "codemirror_mode": {
    "name": "ipython",
    "version": 3
   },
   "file_extension": ".py",
   "mimetype": "text/x-python",
   "name": "python",
   "nbconvert_exporter": "python",
   "pygments_lexer": "ipython3",
   "version": "3.10.5 (tags/v3.10.5:f377153, Jun  6 2022, 16:14:13) [MSC v.1929 64 bit (AMD64)]"
  },
  "orig_nbformat": 4,
  "vscode": {
   "interpreter": {
    "hash": "90d99a365a6800d6d3b874802d775db992b69c47481bfc65e12294d647a46c22"
   }
  }
 },
 "nbformat": 4,
 "nbformat_minor": 2
}
