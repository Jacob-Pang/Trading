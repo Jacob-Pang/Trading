{
 "cells": [
  {
   "cell_type": "code",
   "execution_count": 1,
   "metadata": {},
   "outputs": [],
   "source": [
    "import os\n",
    "os.chdir(os.path.pardir)\n",
    "os.chdir(os.path.pardir)"
   ]
  },
  {
   "cell_type": "code",
   "execution_count": 2,
   "metadata": {},
   "outputs": [],
   "source": [
    "import datetime\n",
    "import json\n",
    "\n",
    "from src.news_listener.rpa.reuters import ReutersNewsListener\n",
    "from pyutils.events import wait_for"
   ]
  },
  {
   "cell_type": "code",
   "execution_count": 3,
   "metadata": {},
   "outputs": [],
   "source": [
    "reuters_config_path = os.path.join(\"credentials\", \"reuters_config.json\")\n",
    "\n",
    "with open(reuters_config_path) as config_file:\n",
    "    reuters_config: dict[str, str] = json.load(config_file)"
   ]
  },
  {
   "cell_type": "code",
   "execution_count": 4,
   "metadata": {},
   "outputs": [],
   "source": [
    "reuters_news = ReutersNewsListener(reuters_config.get(\"email\"), reuters_config.get(\"password\"),\n",
    "        set_timestamp=datetime.datetime.now() - datetime.timedelta(days=1))"
   ]
  },
  {
   "cell_type": "code",
   "execution_count": 5,
   "metadata": {},
   "outputs": [],
   "source": [
    "reuters_news.subscribe()\n",
    "assert wait_for(reuters_news.ready, timeout=30)"
   ]
  },
  {
   "cell_type": "code",
   "execution_count": 6,
   "metadata": {},
   "outputs": [],
   "source": [
    "reuters_news.run_update_loop(2)"
   ]
  },
  {
   "cell_type": "code",
   "execution_count": 10,
   "metadata": {},
   "outputs": [
    {
     "name": "stdout",
     "output_type": "stream",
     "text": [
      "Instant View: Adani's $2.5 billion offer rides out share storm with investor backing\n",
      "Ancora Holdings urges Green Plains to put itself up for sale - letter\n",
      "Homebuilder PulteGroup's quarterly profit beats estimates on higher house prices\n",
      "Bed Bath & Beyond's road to potential bankruptcy\n",
      "Bed Bath & Beyond preparing to file bankruptcy as soon as this week -sources\n",
      "Norway wealth fund posts record $164 bln loss\n",
      "GM, Lithium Americas to develop Thacker Pass mine in Nevada\n",
      "Thousands of ambulance staff in England to strike on Feb. 10 - PA Media\n",
      "Oil falls more than 1% on stronger dollar, rate hike worries\n",
      "Dollar climbs before Fed, but set for fourth monthly drop\n",
      "Tesla raises spending plan as it looks to boost production\n",
      "Gold falls 1% on firm dollar as traders await Fed verdict\n",
      "Exxon smashes Western oil majors' earnings record with $59 billion profit\n",
      "Caterpillar misses profit estimates as costs weigh\n",
      "JPMorgan reviews oversight of traders amid boom in financial markets - sources\n",
      "Instant View: Adani's $2.5 billion offer rides out share storm with investor backing\n",
      "Ancora Holdings urges Green Plains to put itself up for sale - letter\n",
      "Homebuilder PulteGroup's quarterly profit beats estimates on higher house prices\n",
      "Bed Bath & Beyond's road to potential bankruptcy\n",
      "Bed Bath & Beyond preparing to file bankruptcy as soon as this week -sources\n",
      "Norway wealth fund posts record $164 bln loss\n",
      "GM, Lithium Americas to develop Thacker Pass mine in Nevada\n",
      "Thousands of ambulance staff in England to strike on Feb. 10 - PA Media\n",
      "Oil falls more than 1% on stronger dollar, rate hike worries\n",
      "Dollar climbs before Fed, but set for fourth monthly drop\n",
      "Tesla raises spending plan as it looks to boost production\n",
      "Gold falls 1% on firm dollar as traders await Fed verdict\n",
      "Exxon smashes Western oil majors' earnings record with $59 billion profit\n",
      "Caterpillar misses profit estimates as costs weigh\n",
      "JPMorgan reviews oversight of traders amid boom in financial markets - sources\n",
      "Instant View: Adani's $2.5 billion offer rides out share storm with investor backing\n",
      "Ancora Holdings urges Green Plains to put itself up for sale - letter\n",
      "Homebuilder PulteGroup's quarterly profit beats estimates on higher house prices\n",
      "Bed Bath & Beyond's road to potential bankruptcy\n",
      "Bed Bath & Beyond preparing to file bankruptcy as soon as this week -sources\n",
      "Norway wealth fund posts record $164 bln loss\n",
      "GM, Lithium Americas to develop Thacker Pass mine in Nevada\n",
      "Thousands of ambulance staff in England to strike on Feb. 10 - PA Media\n",
      "Oil falls more than 1% on stronger dollar, rate hike worries\n",
      "Dollar climbs before Fed, but set for fourth monthly drop\n",
      "Tesla raises spending plan as it looks to boost production\n",
      "Gold falls 1% on firm dollar as traders await Fed verdict\n",
      "Exxon smashes Western oil majors' earnings record with $59 billion profit\n",
      "Caterpillar misses profit estimates as costs weigh\n",
      "JPMorgan reviews oversight of traders amid boom in financial markets - sources\n",
      "Instant View: Adani's $2.5 billion offer rides out share storm with investor backing\n",
      "Ancora Holdings urges Green Plains to put itself up for sale - letter\n",
      "Homebuilder PulteGroup's quarterly profit beats estimates on higher house prices\n",
      "Bed Bath & Beyond's road to potential bankruptcy\n",
      "Bed Bath & Beyond preparing to file bankruptcy as soon as this week -sources\n",
      "Norway wealth fund posts record $164 bln loss\n",
      "GM, Lithium Americas to develop Thacker Pass mine in Nevada\n",
      "Thousands of ambulance staff in England to strike on Feb. 10 - PA Media\n",
      "Oil falls more than 1% on stronger dollar, rate hike worries\n",
      "Dollar climbs before Fed, but set for fourth monthly drop\n",
      "Tesla raises spending plan as it looks to boost production\n",
      "Gold falls 1% on firm dollar as traders await Fed verdict\n",
      "Exxon smashes Western oil majors' earnings record with $59 billion profit\n",
      "Caterpillar misses profit estimates as costs weigh\n",
      "JPMorgan reviews oversight of traders amid boom in financial markets - sources\n"
     ]
    }
   ],
   "source": [
    "news = reuters_news.get()\n",
    "\n",
    "while news:\n",
    "    print(news.headline)\n",
    "    news = reuters_news.get()"
   ]
  },
  {
   "cell_type": "code",
   "execution_count": 11,
   "metadata": {},
   "outputs": [],
   "source": [
    "reuters_news.stop_update_loop()"
   ]
  },
  {
   "cell_type": "code",
   "execution_count": 12,
   "metadata": {},
   "outputs": [],
   "source": [
    "reuters_news.close()"
   ]
  },
  {
   "cell_type": "code",
   "execution_count": null,
   "metadata": {},
   "outputs": [],
   "source": []
  }
 ],
 "metadata": {
  "kernelspec": {
   "display_name": "Python 3",
   "language": "python",
   "name": "python3"
  },
  "language_info": {
   "codemirror_mode": {
    "name": "ipython",
    "version": 3
   },
   "file_extension": ".py",
   "mimetype": "text/x-python",
   "name": "python",
   "nbconvert_exporter": "python",
   "pygments_lexer": "ipython3",
   "version": "3.10.5"
  },
  "orig_nbformat": 4,
  "vscode": {
   "interpreter": {
    "hash": "90d99a365a6800d6d3b874802d775db992b69c47481bfc65e12294d647a46c22"
   }
  }
 },
 "nbformat": 4,
 "nbformat_minor": 2
}
