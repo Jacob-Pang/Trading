{
 "cells": [
  {
   "attachments": {},
   "cell_type": "markdown",
   "metadata": {},
   "source": [
    "# Advance Orders"
   ]
  },
  {
   "cell_type": "code",
   "execution_count": 1,
   "metadata": {},
   "outputs": [],
   "source": [
    "import os\n",
    "os.chdir(os.path.pardir)\n",
    "os.chdir(os.path.pardir)"
   ]
  },
  {
   "cell_type": "code",
   "execution_count": 2,
   "metadata": {},
   "outputs": [],
   "source": [
    "from src.market import MarketBase\n",
    "from src.market_actor.stub import MarketActorStub\n",
    "from src.market_listener.stub import MarketListenerStub\n",
    "\n",
    "from pyutils.events import wait_for"
   ]
  },
  {
   "cell_type": "code",
   "execution_count": 3,
   "metadata": {},
   "outputs": [],
   "source": [
    "market_listener = MarketListenerStub()\n",
    "market = MarketBase(\"AAPL\", \"USD\", market_listener)\n",
    "market_actor = MarketActorStub(transact_flat_cost=0, transact_min_cost=0, transact_var_cost_rate_percent=0.2)"
   ]
  },
  {
   "attachments": {},
   "cell_type": "markdown",
   "metadata": {},
   "source": [
    "## 1. Stop Loss Clases"
   ]
  },
  {
   "cell_type": "code",
   "execution_count": 4,
   "metadata": {},
   "outputs": [],
   "source": [
    "from src.advance_order.position_closing.stop_loss import StopLoss, TrailingStopLoss, TrailingPercentStopLoss"
   ]
  },
  {
   "attachments": {},
   "cell_type": "markdown",
   "metadata": {},
   "source": [
    "### 1.1. StopLoss Class"
   ]
  },
  {
   "attachments": {},
   "cell_type": "markdown",
   "metadata": {},
   "source": [
    "#### StopLoss Trigger and Execution"
   ]
  },
  {
   "cell_type": "code",
   "execution_count": 5,
   "metadata": {},
   "outputs": [
    {
     "name": "stdout",
     "output_type": "stream",
     "text": [
      "Submitted buy order of 1.00 AAPL       at 1000.00\n",
      "Filled buy order of 1.00 AAPL       at 1000.00\n"
     ]
    },
    {
     "data": {
      "text/plain": [
       "{'AAPL': 0.998, 'USD': -1000.0}"
      ]
     },
     "execution_count": 5,
     "metadata": {},
     "output_type": "execute_result"
    }
   ],
   "source": [
    "# Execute buy order\n",
    "market_listener.set_current_price(1000)\n",
    "buy_order = market_actor.make_order(market, 1000, 1)\n",
    "market_actor.execute_order(buy_order)\n",
    "wait_for(buy_order.has_filled)\n",
    "\n",
    "open_position = buy_order.filled_position\n",
    "open_position"
   ]
  },
  {
   "cell_type": "code",
   "execution_count": 6,
   "metadata": {},
   "outputs": [],
   "source": [
    "# Create StopLoss\n",
    "stop_loss_price = 980\n",
    "stop_loss = StopLoss.make_advance_order(market, market_actor, open_position,\n",
    "        stop_loss_price=stop_loss_price, auto_assimilate=True)\n",
    "\n",
    "market_actor.activate_advance_order(stop_loss)"
   ]
  },
  {
   "cell_type": "code",
   "execution_count": 7,
   "metadata": {},
   "outputs": [],
   "source": [
    "market_listener.set_current_price(1100)"
   ]
  },
  {
   "cell_type": "code",
   "execution_count": 8,
   "metadata": {},
   "outputs": [
    {
     "name": "stdout",
     "output_type": "stream",
     "text": [
      "Submitted sell order of 1.00 AAPL       at 980.00\n",
      "Filled sell order of 1.00 AAPL       at 980.00\n"
     ]
    }
   ],
   "source": [
    "market_listener.set_current_price(980)"
   ]
  },
  {
   "cell_type": "code",
   "execution_count": 9,
   "metadata": {},
   "outputs": [
    {
     "data": {
      "text/plain": [
       "True"
      ]
     },
     "execution_count": 9,
     "metadata": {},
     "output_type": "execute_result"
    }
   ],
   "source": [
    "open_position.closed"
   ]
  },
  {
   "attachments": {},
   "cell_type": "markdown",
   "metadata": {},
   "source": [
    "#### StopLoss Cancellation"
   ]
  },
  {
   "cell_type": "code",
   "execution_count": 10,
   "metadata": {},
   "outputs": [
    {
     "name": "stdout",
     "output_type": "stream",
     "text": [
      "Submitted buy order of 1.00 AAPL       at 1000.00\n",
      "Filled buy order of 1.00 AAPL       at 1000.00\n"
     ]
    },
    {
     "data": {
      "text/plain": [
       "{'AAPL': 0.998, 'USD': -1000.0}"
      ]
     },
     "execution_count": 10,
     "metadata": {},
     "output_type": "execute_result"
    }
   ],
   "source": [
    "# Execute buy order\n",
    "market_listener.set_current_price(1000)\n",
    "buy_order = market_actor.make_order(market, 1000, 1)\n",
    "market_actor.execute_order(buy_order)\n",
    "wait_for(buy_order.has_filled)\n",
    "\n",
    "open_position = buy_order.filled_position\n",
    "open_position"
   ]
  },
  {
   "cell_type": "code",
   "execution_count": 11,
   "metadata": {},
   "outputs": [],
   "source": [
    "# Create StopLoss\n",
    "stop_loss_price = 980\n",
    "stop_loss = StopLoss.make_advance_order(market, market_actor, open_position,\n",
    "        stop_loss_price=stop_loss_price, auto_assimilate=True)"
   ]
  },
  {
   "cell_type": "code",
   "execution_count": 12,
   "metadata": {},
   "outputs": [],
   "source": [
    "# Activate StopLoss and cancel\n",
    "market_actor.activate_advance_order(stop_loss)\n",
    "\n",
    "market_listener.set_current_price(1100)\n",
    "stop_loss.cancel_order()"
   ]
  },
  {
   "cell_type": "code",
   "execution_count": 13,
   "metadata": {},
   "outputs": [
    {
     "data": {
      "text/plain": [
       "False"
      ]
     },
     "execution_count": 13,
     "metadata": {},
     "output_type": "execute_result"
    }
   ],
   "source": [
    "open_position.closed"
   ]
  },
  {
   "attachments": {},
   "cell_type": "markdown",
   "metadata": {},
   "source": [
    "### 2. TrailingStopLoss Class"
   ]
  },
  {
   "cell_type": "code",
   "execution_count": 14,
   "metadata": {},
   "outputs": [
    {
     "name": "stdout",
     "output_type": "stream",
     "text": [
      "Submitted sell order of 1.00 AAPL       at 1000.00\n",
      "Filled sell order of 1.00 AAPL       at 1000.00\n"
     ]
    },
    {
     "data": {
      "text/plain": [
       "{'AAPL': -1, 'USD': 998.0}"
      ]
     },
     "execution_count": 14,
     "metadata": {},
     "output_type": "execute_result"
    }
   ],
   "source": [
    "# Execute short order\n",
    "market_listener.set_current_price(1000)\n",
    "short_order = market_actor.make_order(market, 1000, -1)\n",
    "market_actor.execute_order(short_order)\n",
    "wait_for(short_order.has_filled)\n",
    "\n",
    "open_position = short_order.filled_position\n",
    "open_position"
   ]
  },
  {
   "cell_type": "code",
   "execution_count": 15,
   "metadata": {},
   "outputs": [],
   "source": [
    "# Create TrailingStopLoss\n",
    "trailing_stop_loss = TrailingStopLoss.make_advance_order(market, market_actor, open_position,\n",
    "        trailing_gap=50, auto_assimilate=True)\n",
    "\n",
    "market_actor.activate_advance_order(trailing_stop_loss)"
   ]
  },
  {
   "cell_type": "code",
   "execution_count": 16,
   "metadata": {},
   "outputs": [],
   "source": [
    "market_listener.set_current_price(900)"
   ]
  },
  {
   "cell_type": "code",
   "execution_count": 17,
   "metadata": {},
   "outputs": [
    {
     "name": "stdout",
     "output_type": "stream",
     "text": [
      "Submitted buy order of 1.00 AAPL       at 950.00\n",
      "Filled buy order of 1.00 AAPL       at 950.00\n"
     ]
    }
   ],
   "source": [
    "market_listener.set_current_price(950)"
   ]
  },
  {
   "cell_type": "code",
   "execution_count": 18,
   "metadata": {},
   "outputs": [
    {
     "data": {
      "text/plain": [
       "True"
      ]
     },
     "execution_count": 18,
     "metadata": {},
     "output_type": "execute_result"
    }
   ],
   "source": [
    "open_position.closed"
   ]
  },
  {
   "attachments": {},
   "cell_type": "markdown",
   "metadata": {},
   "source": [
    "### 3. TrailingPercentStopLoss Class"
   ]
  },
  {
   "cell_type": "code",
   "execution_count": 20,
   "metadata": {},
   "outputs": [
    {
     "name": "stdout",
     "output_type": "stream",
     "text": [
      "Submitted buy order of 1.00 AAPL       at 1000.00\n",
      "Filled buy order of 1.00 AAPL       at 1000.00\n"
     ]
    },
    {
     "data": {
      "text/plain": [
       "{'AAPL': 0.998, 'USD': -1000.0}"
      ]
     },
     "execution_count": 20,
     "metadata": {},
     "output_type": "execute_result"
    }
   ],
   "source": [
    "# Execute buy order\n",
    "market_listener.set_current_price(1000)\n",
    "buy_order = market_actor.make_order(market, 1000, 1)\n",
    "market_actor.execute_order(buy_order)\n",
    "wait_for(buy_order.has_filled)\n",
    "\n",
    "open_position = buy_order.filled_position\n",
    "open_position"
   ]
  },
  {
   "cell_type": "code",
   "execution_count": 21,
   "metadata": {},
   "outputs": [],
   "source": [
    "# Create TrailingPercentStopLoss\n",
    "trailing_stop_loss = TrailingPercentStopLoss.make_advance_order(market, market_actor, open_position,\n",
    "        trailing_gap_percent=1.5, auto_assimilate=True)\n",
    "\n",
    "market_actor.activate_advance_order(trailing_stop_loss)"
   ]
  },
  {
   "cell_type": "code",
   "execution_count": 22,
   "metadata": {},
   "outputs": [],
   "source": [
    "market_listener.set_current_price(1100)"
   ]
  },
  {
   "cell_type": "code",
   "execution_count": 23,
   "metadata": {},
   "outputs": [
    {
     "name": "stdout",
     "output_type": "stream",
     "text": [
      "Submitted sell order of 1.00 AAPL       at 1050.00\n",
      "Filled sell order of 1.00 AAPL       at 1050.00\n"
     ]
    }
   ],
   "source": [
    "market_listener.set_current_price(1050)"
   ]
  },
  {
   "cell_type": "code",
   "execution_count": 24,
   "metadata": {},
   "outputs": [
    {
     "data": {
      "text/plain": [
       "True"
      ]
     },
     "execution_count": 24,
     "metadata": {},
     "output_type": "execute_result"
    }
   ],
   "source": [
    "open_position.closed"
   ]
  },
  {
   "cell_type": "code",
   "execution_count": null,
   "metadata": {},
   "outputs": [],
   "source": []
  }
 ],
 "metadata": {
  "kernelspec": {
   "display_name": "Python 3.10.5 64-bit",
   "language": "python",
   "name": "python3"
  },
  "language_info": {
   "codemirror_mode": {
    "name": "ipython",
    "version": 3
   },
   "file_extension": ".py",
   "mimetype": "text/x-python",
   "name": "python",
   "nbconvert_exporter": "python",
   "pygments_lexer": "ipython3",
   "version": "3.10.5 (tags/v3.10.5:f377153, Jun  6 2022, 16:14:13) [MSC v.1929 64 bit (AMD64)]"
  },
  "orig_nbformat": 4,
  "vscode": {
   "interpreter": {
    "hash": "90d99a365a6800d6d3b874802d775db992b69c47481bfc65e12294d647a46c22"
   }
  }
 },
 "nbformat": 4,
 "nbformat_minor": 2
}
